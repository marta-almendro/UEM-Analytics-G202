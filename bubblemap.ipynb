{
  "nbformat": 4,
  "nbformat_minor": 0,
  "metadata": {
    "colab": {
      "name": "bubblemap.ipynb",
      "provenance": [],
      "collapsed_sections": [],
      "toc_visible": true,
      "authorship_tag": "ABX9TyO27pgVZyBinLFCNi6WGODX",
      "include_colab_link": true
    },
    "kernelspec": {
      "name": "python3",
      "display_name": "Python 3"
    }
  },
  "cells": [
    {
      "cell_type": "markdown",
      "metadata": {
        "id": "view-in-github",
        "colab_type": "text"
      },
      "source": [
        "<a href=\"https://colab.research.google.com/github/marta-almendro/UEM-Analytics-G202/blob/main/bubblemap.ipynb\" target=\"_parent\"><img src=\"https://colab.research.google.com/assets/colab-badge.svg\" alt=\"Open In Colab\"/></a>"
      ]
    },
    {
      "cell_type": "markdown",
      "metadata": {
        "id": "nhlGdKFe4k3t"
      },
      "source": [
        "\n",
        "\n",
        "# Datos edificios"
      ]
    },
    {
      "cell_type": "code",
      "metadata": {
        "id": "Dnb22obaOhBF"
      },
      "source": [
        "import pandas as pd"
      ],
      "execution_count": 1,
      "outputs": []
    },
    {
      "cell_type": "code",
      "metadata": {
        "colab": {
          "base_uri": "https://localhost:8080/",
          "height": 206
        },
        "id": "7VQnIO4hyEW2",
        "outputId": "ebaba7b9-e429-4639-a14f-18baf26d1873"
      },
      "source": [
        "cc = pd.read_csv(\"/Centro comercial.csv\", sep=\";\")\n",
        "cc.head()"
      ],
      "execution_count": 2,
      "outputs": [
        {
          "output_type": "execute_result",
          "data": {
            "text/html": [
              "<div>\n",
              "<style scoped>\n",
              "    .dataframe tbody tr th:only-of-type {\n",
              "        vertical-align: middle;\n",
              "    }\n",
              "\n",
              "    .dataframe tbody tr th {\n",
              "        vertical-align: top;\n",
              "    }\n",
              "\n",
              "    .dataframe thead th {\n",
              "        text-align: right;\n",
              "    }\n",
              "</style>\n",
              "<table border=\"1\" class=\"dataframe\">\n",
              "  <thead>\n",
              "    <tr style=\"text-align: right;\">\n",
              "      <th></th>\n",
              "      <th>datetime</th>\n",
              "      <th>id</th>\n",
              "      <th>pcr</th>\n",
              "    </tr>\n",
              "  </thead>\n",
              "  <tbody>\n",
              "    <tr>\n",
              "      <th>0</th>\n",
              "      <td>2020-03-01T09:00:00</td>\n",
              "      <td>15</td>\n",
              "      <td>Negativo</td>\n",
              "    </tr>\n",
              "    <tr>\n",
              "      <th>1</th>\n",
              "      <td>2020-03-01T09:00:00</td>\n",
              "      <td>32</td>\n",
              "      <td>Negativo</td>\n",
              "    </tr>\n",
              "    <tr>\n",
              "      <th>2</th>\n",
              "      <td>2020-03-01T09:00:00</td>\n",
              "      <td>38</td>\n",
              "      <td>Negativo</td>\n",
              "    </tr>\n",
              "    <tr>\n",
              "      <th>3</th>\n",
              "      <td>2020-03-01T09:00:00</td>\n",
              "      <td>60</td>\n",
              "      <td>Negativo</td>\n",
              "    </tr>\n",
              "    <tr>\n",
              "      <th>4</th>\n",
              "      <td>2020-03-01T09:00:00</td>\n",
              "      <td>65</td>\n",
              "      <td>Negativo</td>\n",
              "    </tr>\n",
              "  </tbody>\n",
              "</table>\n",
              "</div>"
            ],
            "text/plain": [
              "              datetime  id       pcr\n",
              "0  2020-03-01T09:00:00  15  Negativo\n",
              "1  2020-03-01T09:00:00  32  Negativo\n",
              "2  2020-03-01T09:00:00  38  Negativo\n",
              "3  2020-03-01T09:00:00  60  Negativo\n",
              "4  2020-03-01T09:00:00  65  Negativo"
            ]
          },
          "metadata": {
            "tags": []
          },
          "execution_count": 2
        }
      ]
    },
    {
      "cell_type": "code",
      "metadata": {
        "colab": {
          "base_uri": "https://localhost:8080/"
        },
        "id": "WiRGivagzuIn",
        "outputId": "f750bad6-3702-4e0f-c4d9-124bff582860"
      },
      "source": [
        "cc_pos = cc.pcr[cc.pcr == 'Positivo'].count()\n",
        "cc_pos"
      ],
      "execution_count": 3,
      "outputs": [
        {
          "output_type": "execute_result",
          "data": {
            "text/plain": [
              "1675"
            ]
          },
          "metadata": {
            "tags": []
          },
          "execution_count": 3
        }
      ]
    },
    {
      "cell_type": "code",
      "metadata": {
        "colab": {
          "base_uri": "https://localhost:8080/"
        },
        "id": "1MtqQfoq4MB9",
        "outputId": "2e913481-b9d3-4160-a34b-a4819cb41563"
      },
      "source": [
        "cc_tot = cc['pcr'].count()\n",
        "cc_tot"
      ],
      "execution_count": 4,
      "outputs": [
        {
          "output_type": "execute_result",
          "data": {
            "text/plain": [
              "14837"
            ]
          },
          "metadata": {
            "tags": []
          },
          "execution_count": 4
        }
      ]
    },
    {
      "cell_type": "code",
      "metadata": {
        "id": "6ZDUwdj-1Oz_"
      },
      "source": [
        "h1 = pd.read_csv(\"/Hospial 1.csv\", sep=\";\")\n",
        "h1_pos = h1.pcr[h1.pcr == 'Positivo'].count()"
      ],
      "execution_count": 5,
      "outputs": []
    },
    {
      "cell_type": "code",
      "metadata": {
        "id": "zKHRT9yG4Qju"
      },
      "source": [
        "h1_tot = h1['pcr'].count()"
      ],
      "execution_count": 6,
      "outputs": []
    },
    {
      "cell_type": "code",
      "metadata": {
        "id": "qYH-3Cwj1esV"
      },
      "source": [
        "h2 = pd.read_csv(\"/Hospital 2.csv\", sep=\";\")\n",
        "h2_pos = h2.pcr[h2.pcr == 'Positivo'].count()"
      ],
      "execution_count": 7,
      "outputs": []
    },
    {
      "cell_type": "code",
      "metadata": {
        "id": "zOcKeB_L4Ufp"
      },
      "source": [
        "h2_tot = h2['pcr'].count()"
      ],
      "execution_count": 8,
      "outputs": []
    },
    {
      "cell_type": "code",
      "metadata": {
        "id": "J6dvGWEU1qH6"
      },
      "source": [
        "c1 = pd.read_csv(\"/Colegio 1.csv\", sep=\";\")\n",
        "c1_pos = c1.pcr[c1.pcr == 'Positivo'].count()"
      ],
      "execution_count": 9,
      "outputs": []
    },
    {
      "cell_type": "code",
      "metadata": {
        "id": "Jcolq3ao36pJ"
      },
      "source": [
        "c1_tot = c1['pcr'].count()"
      ],
      "execution_count": 10,
      "outputs": []
    },
    {
      "cell_type": "code",
      "metadata": {
        "id": "a5qaxxbN10wS"
      },
      "source": [
        "c2 = pd.read_csv(\"/Colegio 2.csv\", sep=\";\")\n",
        "c2_pos = c2.pcr[c2.pcr == 'Positivo'].count()"
      ],
      "execution_count": 11,
      "outputs": []
    },
    {
      "cell_type": "code",
      "metadata": {
        "id": "fYQIcKAs32k7"
      },
      "source": [
        "c2_tot = c2['pcr'].count()"
      ],
      "execution_count": 12,
      "outputs": []
    },
    {
      "cell_type": "code",
      "metadata": {
        "id": "carJDKfo17XW"
      },
      "source": [
        "farm = pd.read_csv(\"/Farmacia.csv\", sep=\";\")\n",
        "farm_pos = farm.pcr[farm.pcr == 'Positivo'].count()"
      ],
      "execution_count": 13,
      "outputs": []
    },
    {
      "cell_type": "code",
      "metadata": {
        "id": "pIfX5d_U3yL0"
      },
      "source": [
        "farm_tot = farm['pcr'].count()"
      ],
      "execution_count": 14,
      "outputs": []
    },
    {
      "cell_type": "code",
      "metadata": {
        "id": "rK6YL07t2Kc-"
      },
      "source": [
        "super = pd.read_csv(\"/Supermercado.csv\", sep=\";\")\n",
        "super_pos = super.pcr[super.pcr == 'Positivo'].count()"
      ],
      "execution_count": 15,
      "outputs": []
    },
    {
      "cell_type": "code",
      "metadata": {
        "id": "VsOrI8ol3uSF"
      },
      "source": [
        "super_tot = super['pcr'].count()"
      ],
      "execution_count": 16,
      "outputs": []
    },
    {
      "cell_type": "code",
      "metadata": {
        "id": "dAhitd-Q2Sm-"
      },
      "source": [
        "t1 = pd.read_csv(\"/Trabajo 1.csv\", sep=\";\")\n",
        "t1_pos = t1.pcr[t1.pcr == 'Positivo'].count()"
      ],
      "execution_count": 17,
      "outputs": []
    },
    {
      "cell_type": "code",
      "metadata": {
        "id": "2RK-Umv73qKk"
      },
      "source": [
        "t1_tot = t1['pcr'].count()"
      ],
      "execution_count": 18,
      "outputs": []
    },
    {
      "cell_type": "code",
      "metadata": {
        "id": "BtOKCx1i2aoD"
      },
      "source": [
        "t2 = pd.read_csv(\"/Trabajo 2.csv\", sep=\";\")\n",
        "t2_pos = t2.pcr[t2.pcr == 'Positivo'].count()"
      ],
      "execution_count": 19,
      "outputs": []
    },
    {
      "cell_type": "code",
      "metadata": {
        "id": "X3bJdZpt3me5"
      },
      "source": [
        "t2_tot = t2['pcr'].count()"
      ],
      "execution_count": 20,
      "outputs": []
    },
    {
      "cell_type": "code",
      "metadata": {
        "id": "PeZPuXY52f_n"
      },
      "source": [
        "t3 = pd.read_csv(\"/Trabajo 3.csv\", sep=\";\")\n",
        "t3_pos = t3.pcr[t3.pcr == 'Positivo'].count()"
      ],
      "execution_count": 21,
      "outputs": []
    },
    {
      "cell_type": "code",
      "metadata": {
        "id": "72_Hom8X3cpR"
      },
      "source": [
        "t3_tot = t3['pcr'].count()"
      ],
      "execution_count": 22,
      "outputs": []
    },
    {
      "cell_type": "code",
      "metadata": {
        "id": "GUG2ZtJS2qrB"
      },
      "source": [
        "t4 = pd.read_csv(\"/Trabajo 4.csv\", sep=\";\")\n",
        "t4_pos = t4.pcr[t4.pcr == 'Positivo'].count()"
      ],
      "execution_count": 23,
      "outputs": []
    },
    {
      "cell_type": "code",
      "metadata": {
        "id": "hcKiZYT73XEB"
      },
      "source": [
        "t4_tot = t4['pcr'].count()"
      ],
      "execution_count": 24,
      "outputs": []
    },
    {
      "cell_type": "code",
      "metadata": {
        "id": "MfLrhNk42xeY"
      },
      "source": [
        "uni = pd.read_csv(\"/Universidad.csv\", sep=\";\")\n",
        "uni_pos = uni.pcr[uni.pcr == 'Positivo'].count()"
      ],
      "execution_count": 25,
      "outputs": []
    },
    {
      "cell_type": "code",
      "metadata": {
        "id": "Jg_N1EDb27QW"
      },
      "source": [
        "uni_tot = uni['pcr'].count()"
      ],
      "execution_count": 26,
      "outputs": []
    },
    {
      "cell_type": "markdown",
      "metadata": {
        "id": "zpguZwgpZbAu"
      },
      "source": [
        "# Dataset mapa\n",
        "\n"
      ]
    },
    {
      "cell_type": "code",
      "metadata": {
        "colab": {
          "base_uri": "https://localhost:8080/",
          "height": 206
        },
        "id": "QTWSzO8gZddW",
        "outputId": "a8ac351a-b34c-4f76-8aa1-fcfc472c6f48"
      },
      "source": [
        "city = pd.DataFrame(columns=('edificio', 'latitude', 'longitude', 'pcr_positivo','total_pcr', 'ia'))\n",
        "\n",
        "\n",
        "city = pd.DataFrame({'edificio': ['Centro comercial', 'Colegio 1', 'Colegio 2','Farmacia',\n",
        "                                  'Hospital 1', 'Hospital 2', 'Supermercado', 'Trabajo 1', \n",
        "                                  'Trabajo 2', 'Trabajo 3', 'Trabajo 4', 'Universidad'], \n",
        "                     'latitude': [40.9005721185187, 40.8993711112962, 40.93063, 40.90178,\n",
        "                                  40.9094666744447, 40.9057043315905, 40.9058969403664, \n",
        "                                  40.9058969403664, 40.9231500127792, 40.9042103081665, \n",
        "                                  40.9226149493595, 40.9069348463768],\n",
        "                    'longitude':[-81.1537146940288, -81.111685041072,-81.11683, -81.10522, \n",
        "                                 -81.0981774363991, -81.1477875742352,-81.0879678392236, \n",
        "                                 -81.0962075852287,-81.101529087456, -81.1109704642085, \n",
        "                                 -81.1216869957168, -81.1087388665002], \n",
        "                    'pcr_positivo':[cc_pos, c1_pos, c2_pos, farm_pos, h1_pos,h2_pos, super_pos,t1_pos,t2_pos,t3_pos,t4_pos,uni_pos], \n",
        "                    'total_pcr':[cc_tot,c1_tot, c2_tot, farm_tot, h1_tot,h2_tot, super_tot,t1_tot,t2_tot,t3_tot,t4_tot,uni_tot ], \n",
        "                    'ia':[cc_pos/cc_tot, c1_pos/c1_tot,c2_pos/c2_tot,farm_pos/farm_tot,h1_pos/h1_tot,h2_pos/h2_tot,super_pos/super_tot,\n",
        "                          t1_pos/t1_tot,t2_pos/t2_tot,t3_pos/t3_tot,t4_pos/t4_tot,uni_pos/uni_tot,]})\n",
        "\n",
        "city.head()"
      ],
      "execution_count": 31,
      "outputs": [
        {
          "output_type": "execute_result",
          "data": {
            "text/html": [
              "<div>\n",
              "<style scoped>\n",
              "    .dataframe tbody tr th:only-of-type {\n",
              "        vertical-align: middle;\n",
              "    }\n",
              "\n",
              "    .dataframe tbody tr th {\n",
              "        vertical-align: top;\n",
              "    }\n",
              "\n",
              "    .dataframe thead th {\n",
              "        text-align: right;\n",
              "    }\n",
              "</style>\n",
              "<table border=\"1\" class=\"dataframe\">\n",
              "  <thead>\n",
              "    <tr style=\"text-align: right;\">\n",
              "      <th></th>\n",
              "      <th>edificio</th>\n",
              "      <th>latitude</th>\n",
              "      <th>longitude</th>\n",
              "      <th>pcr_positivo</th>\n",
              "      <th>total_pcr</th>\n",
              "      <th>ia</th>\n",
              "    </tr>\n",
              "  </thead>\n",
              "  <tbody>\n",
              "    <tr>\n",
              "      <th>0</th>\n",
              "      <td>Centro comercial</td>\n",
              "      <td>40.900572</td>\n",
              "      <td>-81.153715</td>\n",
              "      <td>1675</td>\n",
              "      <td>14837</td>\n",
              "      <td>0.112893</td>\n",
              "    </tr>\n",
              "    <tr>\n",
              "      <th>1</th>\n",
              "      <td>Colegio 1</td>\n",
              "      <td>40.899371</td>\n",
              "      <td>-81.111685</td>\n",
              "      <td>1246</td>\n",
              "      <td>11506</td>\n",
              "      <td>0.108291</td>\n",
              "    </tr>\n",
              "    <tr>\n",
              "      <th>2</th>\n",
              "      <td>Colegio 2</td>\n",
              "      <td>40.930630</td>\n",
              "      <td>-81.116830</td>\n",
              "      <td>1348</td>\n",
              "      <td>11723</td>\n",
              "      <td>0.114988</td>\n",
              "    </tr>\n",
              "    <tr>\n",
              "      <th>3</th>\n",
              "      <td>Farmacia</td>\n",
              "      <td>40.901780</td>\n",
              "      <td>-81.105220</td>\n",
              "      <td>1308</td>\n",
              "      <td>11610</td>\n",
              "      <td>0.112661</td>\n",
              "    </tr>\n",
              "    <tr>\n",
              "      <th>4</th>\n",
              "      <td>Hospital 1</td>\n",
              "      <td>40.909467</td>\n",
              "      <td>-81.098177</td>\n",
              "      <td>912</td>\n",
              "      <td>7924</td>\n",
              "      <td>0.115093</td>\n",
              "    </tr>\n",
              "  </tbody>\n",
              "</table>\n",
              "</div>"
            ],
            "text/plain": [
              "           edificio   latitude  longitude  pcr_positivo  total_pcr        ia\n",
              "0  Centro comercial  40.900572 -81.153715          1675      14837  0.112893\n",
              "1         Colegio 1  40.899371 -81.111685          1246      11506  0.108291\n",
              "2         Colegio 2  40.930630 -81.116830          1348      11723  0.114988\n",
              "3          Farmacia  40.901780 -81.105220          1308      11610  0.112661\n",
              "4        Hospital 1  40.909467 -81.098177           912       7924  0.115093"
            ]
          },
          "metadata": {
            "tags": []
          },
          "execution_count": 31
        }
      ]
    },
    {
      "cell_type": "markdown",
      "metadata": {
        "id": "uPeCXjd35-Wi"
      },
      "source": [
        "# Bubble Map\n",
        "\n"
      ]
    },
    {
      "cell_type": "code",
      "metadata": {
        "colab": {
          "base_uri": "https://localhost:8080/",
          "height": 617
        },
        "id": "xtST31Es9o6B",
        "outputId": "40c63ecb-0f8a-4436-efb1-9af32140e77d"
      },
      "source": [
        "import plotly.express as px\n",
        "\n",
        "fig = px.scatter_mapbox(city1, lat=\"latitude\", lon=\"longitude\", hover_name=\"edificio\", hover_data=[\"edificio\", \"ia\"],\n",
        "                        color=\"pcr_positivo\",   size_max=25,zoom=12, height=600,size=city1[\"pcr_positivo\"]  ,\n",
        "                       #color_continuous_scale=[(0.00, \"green\"),   (0.112, \"green\"),(0.112, \"red\"), (city[\"ia\"].max(), \"green\")]\n",
        "                        #color_continuous_scale=[\"green\", \"red\"]\n",
        "                        color_continuous_scale=[(0.00, \"green\"),  (0.5, \"green\"),(0.5, \"red\"),  (1.00, \"red\")],\n",
        "                        labels={\"pcr_psitivo\": \"Casos positivos\"}\n",
        "                        )\n",
        "\n",
        "fig.update_layout(\n",
        "    mapbox_style=\"open-street-map\",\n",
        "    )\n",
        "fig.update_layout(\n",
        "    margin={\"r\":0,\"t\":0,\"l\":0,\"b\":0},\n",
        "     autosize =True)\n",
        "\n",
        "fig.show()\n"
      ],
      "execution_count": 32,
      "outputs": [
        {
          "output_type": "display_data",
          "data": {
            "text/html": [
              "<html>\n",
              "<head><meta charset=\"utf-8\" /></head>\n",
              "<body>\n",
              "    <div>\n",
              "            <script src=\"https://cdnjs.cloudflare.com/ajax/libs/mathjax/2.7.5/MathJax.js?config=TeX-AMS-MML_SVG\"></script><script type=\"text/javascript\">if (window.MathJax) {MathJax.Hub.Config({SVG: {font: \"STIX-Web\"}});}</script>\n",
              "                <script type=\"text/javascript\">window.PlotlyConfig = {MathJaxConfig: 'local'};</script>\n",
              "        <script src=\"https://cdn.plot.ly/plotly-latest.min.js\"></script>    \n",
              "            <div id=\"3d8f9fb6-6395-4e62-be5c-64950d110679\" class=\"plotly-graph-div\" style=\"height:600px; width:100%;\"></div>\n",
              "            <script type=\"text/javascript\">\n",
              "                \n",
              "                    window.PLOTLYENV=window.PLOTLYENV || {};\n",
              "                    \n",
              "                if (document.getElementById(\"3d8f9fb6-6395-4e62-be5c-64950d110679\")) {\n",
              "                    Plotly.newPlot(\n",
              "                        '3d8f9fb6-6395-4e62-be5c-64950d110679',\n",
              "                        [{\"customdata\": [[\"Centro comercial\", 0.11289344207049942], [\"Colegio 1\", 0.10829132626455762], [\"Colegio 2\", 0.11498763115243538], [\"Farmacia\", 0.11266149870801033], [\"Hospital 1\", 0.11509338717819283], [\"Hospital 2\", 0.11643749211555443], [\"Supermercado\", 0.11661652804813308], [\"Trabajo 1\", 0.10827374872318693], [\"Trabajo 2\", 0.11162314388120839], [\"Trabajo 3\", 0.11713191023535852], [\"Trabajo 4\", 0.11145847492184315], [\"Universidad\", 0.11582353943110203]], \"hoverlabel\": {\"namelength\": 0}, \"hovertemplate\": \"<b>%{hovertext}</b><br><br>pcr_positivo=%{marker.color}<br>edificio=%{customdata[0]}<br>ia=%{customdata[1]}<br>latitude=%{lat}<br>longitude=%{lon}\", \"hovertext\": [\"Centro comercial\", \"Colegio 1\", \"Colegio 2\", \"Farmacia\", \"Hospital 1\", \"Hospital 2\", \"Supermercado\", \"Trabajo 1\", \"Trabajo 2\", \"Trabajo 3\", \"Trabajo 4\", \"Universidad\"], \"lat\": [40.9005721185187, 40.8993711112962, 40.93063, 40.90178, 40.9094666744447, 40.9057043315905, 40.9058969403664, 40.9058969403664, 40.9231500127792, 40.9042103081665, 40.9226149493595, 40.9069348463768], \"legendgroup\": \"\", \"lon\": [-81.1537146940288, -81.111685041072, -81.11683, -81.10522, -81.0981774363991, -81.1477875742352, -81.0879678392236, -81.0962075852287, -81.101529087456, -81.1109704642085, -81.1216869957168, -81.1087388665002], \"marker\": {\"color\": [1675, 1246, 1348, 1308, 912, 923, 1318, 424, 436, 856, 820, 1360], \"coloraxis\": \"coloraxis\", \"size\": [1675, 1246, 1348, 1308, 912, 923, 1318, 424, 436, 856, 820, 1360], \"sizemode\": \"area\", \"sizeref\": 2.68}, \"mode\": \"markers\", \"name\": \"\", \"showlegend\": false, \"subplot\": \"mapbox\", \"type\": \"scattermapbox\"}],\n",
              "                        {\"autosize\": true, \"coloraxis\": {\"colorbar\": {\"title\": {\"text\": \"pcr_positivo\"}}, \"colorscale\": [[0.0, \"green\"], [0.5, \"green\"], [0.5, \"red\"], [1.0, \"red\"]]}, \"height\": 600, \"legend\": {\"itemsizing\": \"constant\", \"tracegroupgap\": 0}, \"mapbox\": {\"center\": {\"lat\": 40.90968568610541, \"lon\": -81.1133762986724}, \"domain\": {\"x\": [0.0, 1.0], \"y\": [0.0, 1.0]}, \"style\": \"open-street-map\", \"zoom\": 12}, \"margin\": {\"b\": 0, \"l\": 0, \"r\": 0, \"t\": 0}, \"template\": {\"data\": {\"bar\": [{\"error_x\": {\"color\": \"#2a3f5f\"}, \"error_y\": {\"color\": \"#2a3f5f\"}, \"marker\": {\"line\": {\"color\": \"#E5ECF6\", \"width\": 0.5}}, \"type\": \"bar\"}], \"barpolar\": [{\"marker\": {\"line\": {\"color\": \"#E5ECF6\", \"width\": 0.5}}, \"type\": \"barpolar\"}], \"carpet\": [{\"aaxis\": {\"endlinecolor\": \"#2a3f5f\", \"gridcolor\": \"white\", \"linecolor\": \"white\", \"minorgridcolor\": \"white\", \"startlinecolor\": \"#2a3f5f\"}, \"baxis\": {\"endlinecolor\": \"#2a3f5f\", \"gridcolor\": \"white\", \"linecolor\": \"white\", \"minorgridcolor\": \"white\", \"startlinecolor\": \"#2a3f5f\"}, \"type\": \"carpet\"}], \"choropleth\": [{\"colorbar\": {\"outlinewidth\": 0, \"ticks\": \"\"}, \"type\": \"choropleth\"}], \"contour\": [{\"colorbar\": {\"outlinewidth\": 0, \"ticks\": \"\"}, \"colorscale\": [[0.0, \"#0d0887\"], [0.1111111111111111, \"#46039f\"], [0.2222222222222222, \"#7201a8\"], [0.3333333333333333, \"#9c179e\"], [0.4444444444444444, \"#bd3786\"], [0.5555555555555556, \"#d8576b\"], [0.6666666666666666, \"#ed7953\"], [0.7777777777777778, \"#fb9f3a\"], [0.8888888888888888, \"#fdca26\"], [1.0, \"#f0f921\"]], \"type\": \"contour\"}], \"contourcarpet\": [{\"colorbar\": {\"outlinewidth\": 0, \"ticks\": \"\"}, \"type\": \"contourcarpet\"}], \"heatmap\": [{\"colorbar\": {\"outlinewidth\": 0, \"ticks\": \"\"}, \"colorscale\": [[0.0, \"#0d0887\"], [0.1111111111111111, \"#46039f\"], [0.2222222222222222, \"#7201a8\"], [0.3333333333333333, \"#9c179e\"], [0.4444444444444444, \"#bd3786\"], [0.5555555555555556, \"#d8576b\"], [0.6666666666666666, \"#ed7953\"], [0.7777777777777778, \"#fb9f3a\"], [0.8888888888888888, \"#fdca26\"], [1.0, \"#f0f921\"]], \"type\": \"heatmap\"}], \"heatmapgl\": [{\"colorbar\": {\"outlinewidth\": 0, \"ticks\": \"\"}, \"colorscale\": [[0.0, \"#0d0887\"], [0.1111111111111111, \"#46039f\"], [0.2222222222222222, \"#7201a8\"], [0.3333333333333333, \"#9c179e\"], [0.4444444444444444, \"#bd3786\"], [0.5555555555555556, \"#d8576b\"], [0.6666666666666666, \"#ed7953\"], [0.7777777777777778, \"#fb9f3a\"], [0.8888888888888888, \"#fdca26\"], [1.0, \"#f0f921\"]], \"type\": \"heatmapgl\"}], \"histogram\": [{\"marker\": {\"colorbar\": {\"outlinewidth\": 0, \"ticks\": \"\"}}, \"type\": \"histogram\"}], \"histogram2d\": [{\"colorbar\": {\"outlinewidth\": 0, \"ticks\": \"\"}, \"colorscale\": [[0.0, \"#0d0887\"], [0.1111111111111111, \"#46039f\"], [0.2222222222222222, \"#7201a8\"], [0.3333333333333333, \"#9c179e\"], [0.4444444444444444, \"#bd3786\"], [0.5555555555555556, \"#d8576b\"], [0.6666666666666666, \"#ed7953\"], [0.7777777777777778, \"#fb9f3a\"], [0.8888888888888888, \"#fdca26\"], [1.0, \"#f0f921\"]], \"type\": \"histogram2d\"}], \"histogram2dcontour\": [{\"colorbar\": {\"outlinewidth\": 0, \"ticks\": \"\"}, \"colorscale\": [[0.0, \"#0d0887\"], [0.1111111111111111, \"#46039f\"], [0.2222222222222222, \"#7201a8\"], [0.3333333333333333, \"#9c179e\"], [0.4444444444444444, \"#bd3786\"], [0.5555555555555556, \"#d8576b\"], [0.6666666666666666, \"#ed7953\"], [0.7777777777777778, \"#fb9f3a\"], [0.8888888888888888, \"#fdca26\"], [1.0, \"#f0f921\"]], \"type\": \"histogram2dcontour\"}], \"mesh3d\": [{\"colorbar\": {\"outlinewidth\": 0, \"ticks\": \"\"}, \"type\": \"mesh3d\"}], \"parcoords\": [{\"line\": {\"colorbar\": {\"outlinewidth\": 0, \"ticks\": \"\"}}, \"type\": \"parcoords\"}], \"pie\": [{\"automargin\": true, \"type\": \"pie\"}], \"scatter\": [{\"marker\": {\"colorbar\": {\"outlinewidth\": 0, \"ticks\": \"\"}}, \"type\": \"scatter\"}], \"scatter3d\": [{\"line\": {\"colorbar\": {\"outlinewidth\": 0, \"ticks\": \"\"}}, \"marker\": {\"colorbar\": {\"outlinewidth\": 0, \"ticks\": \"\"}}, \"type\": \"scatter3d\"}], \"scattercarpet\": [{\"marker\": {\"colorbar\": {\"outlinewidth\": 0, \"ticks\": \"\"}}, \"type\": \"scattercarpet\"}], \"scattergeo\": [{\"marker\": {\"colorbar\": {\"outlinewidth\": 0, \"ticks\": \"\"}}, \"type\": \"scattergeo\"}], \"scattergl\": [{\"marker\": {\"colorbar\": {\"outlinewidth\": 0, \"ticks\": \"\"}}, \"type\": \"scattergl\"}], \"scattermapbox\": [{\"marker\": {\"colorbar\": {\"outlinewidth\": 0, \"ticks\": \"\"}}, \"type\": \"scattermapbox\"}], \"scatterpolar\": [{\"marker\": {\"colorbar\": {\"outlinewidth\": 0, \"ticks\": \"\"}}, \"type\": \"scatterpolar\"}], \"scatterpolargl\": [{\"marker\": {\"colorbar\": {\"outlinewidth\": 0, \"ticks\": \"\"}}, \"type\": \"scatterpolargl\"}], \"scatterternary\": [{\"marker\": {\"colorbar\": {\"outlinewidth\": 0, \"ticks\": \"\"}}, \"type\": \"scatterternary\"}], \"surface\": [{\"colorbar\": {\"outlinewidth\": 0, \"ticks\": \"\"}, \"colorscale\": [[0.0, \"#0d0887\"], [0.1111111111111111, \"#46039f\"], [0.2222222222222222, \"#7201a8\"], [0.3333333333333333, \"#9c179e\"], [0.4444444444444444, \"#bd3786\"], [0.5555555555555556, \"#d8576b\"], [0.6666666666666666, \"#ed7953\"], [0.7777777777777778, \"#fb9f3a\"], [0.8888888888888888, \"#fdca26\"], [1.0, \"#f0f921\"]], \"type\": \"surface\"}], \"table\": [{\"cells\": {\"fill\": {\"color\": \"#EBF0F8\"}, \"line\": {\"color\": \"white\"}}, \"header\": {\"fill\": {\"color\": \"#C8D4E3\"}, \"line\": {\"color\": \"white\"}}, \"type\": \"table\"}]}, \"layout\": {\"annotationdefaults\": {\"arrowcolor\": \"#2a3f5f\", \"arrowhead\": 0, \"arrowwidth\": 1}, \"coloraxis\": {\"colorbar\": {\"outlinewidth\": 0, \"ticks\": \"\"}}, \"colorscale\": {\"diverging\": [[0, \"#8e0152\"], [0.1, \"#c51b7d\"], [0.2, \"#de77ae\"], [0.3, \"#f1b6da\"], [0.4, \"#fde0ef\"], [0.5, \"#f7f7f7\"], [0.6, \"#e6f5d0\"], [0.7, \"#b8e186\"], [0.8, \"#7fbc41\"], [0.9, \"#4d9221\"], [1, \"#276419\"]], \"sequential\": [[0.0, \"#0d0887\"], [0.1111111111111111, \"#46039f\"], [0.2222222222222222, \"#7201a8\"], [0.3333333333333333, \"#9c179e\"], [0.4444444444444444, \"#bd3786\"], [0.5555555555555556, \"#d8576b\"], [0.6666666666666666, \"#ed7953\"], [0.7777777777777778, \"#fb9f3a\"], [0.8888888888888888, \"#fdca26\"], [1.0, \"#f0f921\"]], \"sequentialminus\": [[0.0, \"#0d0887\"], [0.1111111111111111, \"#46039f\"], [0.2222222222222222, \"#7201a8\"], [0.3333333333333333, \"#9c179e\"], [0.4444444444444444, \"#bd3786\"], [0.5555555555555556, \"#d8576b\"], [0.6666666666666666, \"#ed7953\"], [0.7777777777777778, \"#fb9f3a\"], [0.8888888888888888, \"#fdca26\"], [1.0, \"#f0f921\"]]}, \"colorway\": [\"#636efa\", \"#EF553B\", \"#00cc96\", \"#ab63fa\", \"#FFA15A\", \"#19d3f3\", \"#FF6692\", \"#B6E880\", \"#FF97FF\", \"#FECB52\"], \"font\": {\"color\": \"#2a3f5f\"}, \"geo\": {\"bgcolor\": \"white\", \"lakecolor\": \"white\", \"landcolor\": \"#E5ECF6\", \"showlakes\": true, \"showland\": true, \"subunitcolor\": \"white\"}, \"hoverlabel\": {\"align\": \"left\"}, \"hovermode\": \"closest\", \"mapbox\": {\"style\": \"light\"}, \"paper_bgcolor\": \"white\", \"plot_bgcolor\": \"#E5ECF6\", \"polar\": {\"angularaxis\": {\"gridcolor\": \"white\", \"linecolor\": \"white\", \"ticks\": \"\"}, \"bgcolor\": \"#E5ECF6\", \"radialaxis\": {\"gridcolor\": \"white\", \"linecolor\": \"white\", \"ticks\": \"\"}}, \"scene\": {\"xaxis\": {\"backgroundcolor\": \"#E5ECF6\", \"gridcolor\": \"white\", \"gridwidth\": 2, \"linecolor\": \"white\", \"showbackground\": true, \"ticks\": \"\", \"zerolinecolor\": \"white\"}, \"yaxis\": {\"backgroundcolor\": \"#E5ECF6\", \"gridcolor\": \"white\", \"gridwidth\": 2, \"linecolor\": \"white\", \"showbackground\": true, \"ticks\": \"\", \"zerolinecolor\": \"white\"}, \"zaxis\": {\"backgroundcolor\": \"#E5ECF6\", \"gridcolor\": \"white\", \"gridwidth\": 2, \"linecolor\": \"white\", \"showbackground\": true, \"ticks\": \"\", \"zerolinecolor\": \"white\"}}, \"shapedefaults\": {\"line\": {\"color\": \"#2a3f5f\"}}, \"ternary\": {\"aaxis\": {\"gridcolor\": \"white\", \"linecolor\": \"white\", \"ticks\": \"\"}, \"baxis\": {\"gridcolor\": \"white\", \"linecolor\": \"white\", \"ticks\": \"\"}, \"bgcolor\": \"#E5ECF6\", \"caxis\": {\"gridcolor\": \"white\", \"linecolor\": \"white\", \"ticks\": \"\"}}, \"title\": {\"x\": 0.05}, \"xaxis\": {\"automargin\": true, \"gridcolor\": \"white\", \"linecolor\": \"white\", \"ticks\": \"\", \"title\": {\"standoff\": 15}, \"zerolinecolor\": \"white\", \"zerolinewidth\": 2}, \"yaxis\": {\"automargin\": true, \"gridcolor\": \"white\", \"linecolor\": \"white\", \"ticks\": \"\", \"title\": {\"standoff\": 15}, \"zerolinecolor\": \"white\", \"zerolinewidth\": 2}}}},\n",
              "                        {\"responsive\": true}\n",
              "                    ).then(function(){\n",
              "                            \n",
              "var gd = document.getElementById('3d8f9fb6-6395-4e62-be5c-64950d110679');\n",
              "var x = new MutationObserver(function (mutations, observer) {{\n",
              "        var display = window.getComputedStyle(gd).display;\n",
              "        if (!display || display === 'none') {{\n",
              "            console.log([gd, 'removed!']);\n",
              "            Plotly.purge(gd);\n",
              "            observer.disconnect();\n",
              "        }}\n",
              "}});\n",
              "\n",
              "// Listen for the removal of the full notebook cells\n",
              "var notebookContainer = gd.closest('#notebook-container');\n",
              "if (notebookContainer) {{\n",
              "    x.observe(notebookContainer, {childList: true});\n",
              "}}\n",
              "\n",
              "// Listen for the clearing of the current output cell\n",
              "var outputEl = gd.closest('.output');\n",
              "if (outputEl) {{\n",
              "    x.observe(outputEl, {childList: true});\n",
              "}}\n",
              "\n",
              "                        })\n",
              "                };\n",
              "                \n",
              "            </script>\n",
              "        </div>\n",
              "</body>\n",
              "</html>"
            ]
          },
          "metadata": {
            "tags": []
          }
        }
      ]
    }
  ]
}